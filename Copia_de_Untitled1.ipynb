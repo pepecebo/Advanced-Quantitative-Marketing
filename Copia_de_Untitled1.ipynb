{
  "nbformat": 4,
  "nbformat_minor": 0,
  "metadata": {
    "colab": {
      "provenance": [],
      "toc_visible": true,
      "authorship_tag": "ABX9TyNaiZneyFw+uR1J0sOXch5F",
      "include_colab_link": true
    },
    "kernelspec": {
      "name": "ir",
      "display_name": "R"
    },
    "language_info": {
      "name": "R"
    }
  },
  "cells": [
    {
      "cell_type": "markdown",
      "metadata": {
        "id": "view-in-github",
        "colab_type": "text"
      },
      "source": [
        "<a href=\"https://colab.research.google.com/github/pepecebo/Advanced-Quantitative-Marketing/blob/master/Copia_de_Untitled1.ipynb\" target=\"_parent\"><img src=\"https://colab.research.google.com/assets/colab-badge.svg\" alt=\"Open In Colab\"/></a>"
      ]
    },
    {
      "cell_type": "code",
      "execution_count": null,
      "metadata": {
        "colab": {
          "base_uri": "https://localhost:8080/",
          "height": 832
        },
        "id": "CXa5hDxr_FY6",
        "outputId": "c6475443-1967-4fa5-e183-6bac61014955"
      },
      "outputs": [
        {
          "output_type": "display_data",
          "data": {
            "text/html": [
              "<table class=\"dataframe\">\n",
              "<caption>A data.frame: 10 × 2</caption>\n",
              "<thead>\n",
              "\t<tr><th scope=col>x</th><th scope=col>y</th></tr>\n",
              "\t<tr><th scope=col>&lt;int&gt;</th><th scope=col>&lt;dbl&gt;</th></tr>\n",
              "</thead>\n",
              "<tbody>\n",
              "\t<tr><td> 1</td><td>-0.43319658</td></tr>\n",
              "\t<tr><td> 2</td><td> 0.36381991</td></tr>\n",
              "\t<tr><td> 3</td><td> 1.10292607</td></tr>\n",
              "\t<tr><td> 4</td><td>-2.02124367</td></tr>\n",
              "\t<tr><td> 5</td><td> 1.00102883</td></tr>\n",
              "\t<tr><td> 6</td><td>-0.01868143</td></tr>\n",
              "\t<tr><td> 7</td><td> 0.22405865</td></tr>\n",
              "\t<tr><td> 8</td><td>-0.19508522</td></tr>\n",
              "\t<tr><td> 9</td><td>-0.34444494</td></tr>\n",
              "\t<tr><td>10</td><td> 0.06916118</td></tr>\n",
              "</tbody>\n",
              "</table>\n"
            ],
            "text/markdown": "\nA data.frame: 10 × 2\n\n| x &lt;int&gt; | y &lt;dbl&gt; |\n|---|---|\n|  1 | -0.43319658 |\n|  2 |  0.36381991 |\n|  3 |  1.10292607 |\n|  4 | -2.02124367 |\n|  5 |  1.00102883 |\n|  6 | -0.01868143 |\n|  7 |  0.22405865 |\n|  8 | -0.19508522 |\n|  9 | -0.34444494 |\n| 10 |  0.06916118 |\n\n",
            "text/latex": "A data.frame: 10 × 2\n\\begin{tabular}{ll}\n x & y\\\\\n <int> & <dbl>\\\\\n\\hline\n\t  1 & -0.43319658\\\\\n\t  2 &  0.36381991\\\\\n\t  3 &  1.10292607\\\\\n\t  4 & -2.02124367\\\\\n\t  5 &  1.00102883\\\\\n\t  6 & -0.01868143\\\\\n\t  7 &  0.22405865\\\\\n\t  8 & -0.19508522\\\\\n\t  9 & -0.34444494\\\\\n\t 10 &  0.06916118\\\\\n\\end{tabular}\n",
            "text/plain": [
              "   x  y          \n",
              "1   1 -0.43319658\n",
              "2   2  0.36381991\n",
              "3   3  1.10292607\n",
              "4   4 -2.02124367\n",
              "5   5  1.00102883\n",
              "6   6 -0.01868143\n",
              "7   7  0.22405865\n",
              "8   8 -0.19508522\n",
              "9   9 -0.34444494\n",
              "10 10  0.06916118"
            ]
          },
          "metadata": {}
        },
        {
          "output_type": "display_data",
          "data": {
            "text/plain": [
              "plot without title"
            ],
            "image/png": "[encoded data removed]"
          },
          "metadata": {
            "image/png": {
              "width": 420,
              "height": 420
            }
          }
        }
      ],
      "source": [
        "df <- data.frame(x = 1:10, y = rnorm(10))\n",
        "df\n",
        "library(ggplot2)\n",
        "# Crear un gráfico\n",
        "ggplot(df, aes(x = x, y = y)) + geom_point()"
      ]
    },
    {
      "cell_type": "code",
      "source": [
        "# Aquí va tu código R\n",
        "x <- 1:10\n",
        "y <- rnorm(10)\n",
        "plot(x, y)"
      ],
      "metadata": {
        "colab": {
          "base_uri": "https://localhost:8080/",
          "height": 437
        },
        "id": "BjPDioJQ_4_Y",
        "outputId": "031eec11-7af6-4efc-dc7b-26b31ea0e92c"
      },
      "execution_count": null,
      "outputs": [
        {
          "output_type": "display_data",
          "data": {
            "text/plain": [
              "plot without title"
            ],
            "image/png": "[encoded data removed]"
          },
          "metadata": {
            "image/png": {
              "width": 420,
              "height": 420
            }
          }
        }
      ]
    },
    {
      "cell_type": "markdown",
      "source": [
        "## R Markdown\n",
        "\n",
        "This is an R Markdown document. Markdown is a simple formatting syntax for authoring HTML, PDF, and MS Word documents. For more details on using R Markdown see <http://rmarkdown.rstudio.com>.\n",
        "\n",
        "When you click the **Knit** button a document will be generated that includes both content as well as the output of any embedded R code chunks within the document. You can embed an R code chunk like this:\n",
        "\n",
        "```{r cars}\n",
        "summary(cars)\n",
        "```\n",
        "\n",
        "## Including Plots\n",
        "\n",
        "You can also embed plots, for example:\n",
        "\n",
        "```{r pressure, echo=FALSE}\n",
        "plot(pressure)\n",
        "```\n",
        "\n",
        "Note that the `echo = FALSE` parameter was added to the code chunk to prevent printing of the R code that generated the plot.\n",
        "\n",
        "​\n",
        "\n",
        "#  Welcome to Marketing Management II!\n",
        "\n",
        "\n",
        "-   \n",
        "\n",
        "-   176703 (ADE-ECO Int)\n",
        "\n",
        "-   \n",
        "\n",
        "-   177812 (ADE-DER Int)\n",
        "\n",
        "-   \n",
        "\n",
        "Remember that marketing is much more than advertising!\n",
        "\n",
        "## Instructors\n",
        "\n",
        "Your instructors are Javier Cebollada and Marta Arce\n",
        "\n",
        "Javier Cebollada (Theory sessions)\n",
        "\n",
        "Faculty of Economics and Business, Department: GESTIÓN DE EMPRESAS, Area of knowledge: Comercialización e Investigación de Mercados\n",
        "\n",
        "Office 10700 0007, Ground Floor, Los Madroños Building, Arrosadia Campus\n",
        "\n",
        "Phone (+34) 948 16 9736; email: use email inside MiAulario![](https://miaulario.unavarra.es/access/content/group/2024_0_176703_81_G/Contenidos%20-%20Edukiak/Retrato2022(2).jpg){alt=\"\"}![](data:image/gif;base64,R0lGODlhAQABAPABAP///wAAACH5BAEKAAAALAAAAAABAAEAAAICRAEAOw== \"Dar clic y arrastrar para mover\")​\n",
        "\n",
        "[University webpage](https://www.unavarra.es/pdi/?uid=1894&dato=descripcion) \\| [Personal webpage](https://sites.google.com/view/javiercebollada/home-es)\n",
        "\n",
        "Office hours: check [here](https://www.unavarra.es/pdi/?uid=1894&dato=tutorias&languageId=1). Please email me in advance ! In-office or online: Zoom, Teams, email, or\n",
        "\n",
        "Marta Arce (Practice sessions)\n",
        "\n",
        "-   \n",
        "\n",
        "-   [University webpage](https://www.unavarra.es/pdi?uid=6579&dato=descripcion)\n",
        "\n",
        "-   \n",
        "\n",
        "-   Office hours: check [here](https://www.unavarra.es/pdi?uid=6579&dato=tutorias). Any email inside MyAulario!\n",
        "\n",
        "-   \n",
        "\n",
        "-   Faculty of Economics and Business, Department: GESTIÓN DE EMPRESAS, Area of knowledge: Comercialización e Investigación de Mercados\n",
        "\n",
        "-   \n",
        "\n",
        "-   In-office: Office 1005, First Floor, Los Madroños Building, Arrosadia Campus\n",
        "\n",
        "-   \n",
        "\n",
        "-   Phone:  (+34) 948 16 9371![](https://miaulario.unavarra.es/access/content/group/2024_0_176703_81_G/instructor-uploads/image_20240902142449843.png){alt=\"\"}![](data:image/gif;base64,R0lGODlhAQABAPABAP///wAAACH5BAEKAAAALAAAAAABAAEAAAICRAEAOw== \"Dar clic y arrastrar para mover\")​\n",
        "\n",
        "-   \n",
        "\n",
        "# Schedule\n",
        "\n",
        "Tuesday. Practice 10:00 - 12:00, classroom A017 (computer room)\\\n",
        "Wednesday. Theory 08:00 – 10:00, classroom A236\\\n",
        "See [here](https://docs.google.com/spreadsheets/d/12MVdRpUo4ms7BKjMO6iczmzPad8QuXl30gDBmYn6ku0/edit?gid=507280929#gid=507280929&range=A1:G72) the topics to be covered by session, and important deadlines. Please remember it's tentative and subject to change.\n",
        "\n",
        "# Guest student coordinates\n",
        "\n",
        "It allows access to the course website, but you can not send messages, complete assignments, tests, etc. Shared by several students, it may help until having full access.\n",
        "\n",
        "        Username:    TBA\\\n",
        "        Password:    TBA\n",
        "\n",
        "# Course materials\n",
        "\n",
        "![Syndetic](http://www.syndetics.com/index.aspx?isbn=1292341203/LC.GIF&client=upnasum){alt=\"Syndetic\"}![](data:image/gif;base64,R0lGODlhAQABAPABAP///wAAACH5BAEKAAAALAAAAAABAAEAAAICRAEAOw== \"Dar clic y arrastrar para mover\")​\n",
        "\n",
        "-   \n",
        "\n",
        "-   Textbook: Kotler, P. y G. Armstrong (2018), Principles of Marketing (Global Edition), Pearson-Prentice Hall, 17 Ed. University l[ibrary online access (English version)](https://biblioteca.unavarra.es/abnetopac/abnetcl.cgi?TITN=496642)\n",
        "\n",
        "    -   \n",
        "\n",
        "    -   Other editions (with almost the same content - theory is mainly the same, although cases and examples may change; the university library updates every year to the newest edition, but some older editions remain):\n",
        "\n",
        "        -   \n",
        "\n",
        "        -   [19th edition (2024)](https://miaulario.unavarra.es/portal/site/2024_0_176703_81_G/page/bf17bacf-d859-4c35-99e2-0b9b1f058d49) enhanced edition (videos, quizzes, etc.)\n",
        "\n",
        "        -   \n",
        "\n",
        "        -   [Spanish 17th edition](https://biblioteca.unavarra.es/abnetopac/abnetcl.cgi?TITN=497469) (plain)\n",
        "\n",
        "        -   \n",
        "\n",
        "        -   [Spanish 17th edition enhanced (videos and tests)](https://bookshelf.vitalsource.com/books/9788490356128)\n",
        "\n",
        "        -   \n",
        "\n",
        "    -   \n",
        "\n",
        "-   \n",
        "\n",
        "-   Course materials given by the instructor (slides, readings, etc.): see resources folder.\n",
        "\n",
        "-   \n",
        "\n",
        "# Course introduction\n",
        "\n",
        "Please read carefully the Course Introduction document in the Course info folder in order to understand better the course.\n",
        "\n",
        "# Lecture (theory) sessions\n",
        "\n",
        "During the lecture sessions, the instructor will explain the subject contents. Students are expected to have read the corresponding chapter in the textbook before coming to class. At the beginning of each chapter, there will be a short quiz. There will also be activities, exercises and/or readings. Students are encouraged to participate in class.\n",
        "\n",
        "Two evaluation items correspond to lecture sessions:\n",
        "\n",
        "-   \n",
        "\n",
        "-   E1 (40%): final exam, with a minimum mark of 5 out of 10\n",
        "\n",
        "-   \n",
        "\n",
        "-   E5 (10%): class participation, that will evaluate in-class participation, exercises, starting chapter quizzes, activities, etc.\n",
        "\n",
        "-   \n",
        "\n",
        "###  Discussion Forum\n",
        "\n",
        "To evaluate in-class participation (part of E5, 10%), we will use the [**Class participation registry**](<https://miaulario.unavarra.es/portal/directtool/e573b9b2-7ac8-4cc9-ba3d-a48869c5716d/> \" Class participation registry\") in the Forum (Discussion) tool. If you have participated orally in a session, you have to write a very brief summary (just a couple of lines) of your participation(s). One post for each of the sessions in which you participated. Try to post the same day of the session.\n",
        "\n",
        "The forum is also to post doubts, questions, or comments you have about the course, contents, exercises, etc. Better than using the email, unless the issue is personal. If you email me with a doubt or comment that I consider concerns to the whole class, I will respond in the forum.\n",
        "\n",
        "Students are also encouraged to start conversations in the forum. Participation may be posting, commenting, voting, etc. The only condition is to write in a constructive, elaborated, polite and positive tone. Any comment not following these rules is subject to deletion. Participation will count for the class participation item of the final grade.\n",
        "\n",
        "## Wooclap\n",
        "\n",
        "We will sometimes use this interactive app to encourage class participation (see left panel at the bottom). You can participate with your laptop, tablet or smartphone. There is no app in Play or Apple stores, but you can create an icon in your screen in the following way: go to www.wooclap.com in your smartphone, then options (three vertical points at the top right) and \"add to home screen\".\n",
        "\n",
        "You don't have to report in the forum your participation with Wooclap, unless you participated orally as a consequence of a wooclap activity.\n",
        "\n",
        "# Practice sessions\n",
        "\n",
        "Students will participate in a marketing simulation game called Quantum. Teams for this activity will consist of 3-4 students each. Each team will manage a company and compete against other companies that are also managed by their classmates. Students will make strategic decisions involving targeting, positioning, product development, pricing, distribution, and communication. They will be required to prepare a report and deliver an oral presentation on their strategies and outcomes. Additionally, students will participate in discussions of case studies that relate to the simulation.\n",
        "\n",
        "# **Course Assessment**\n",
        "\n",
        "**Theory Assessments:**\n",
        "\n",
        "-   \n",
        "\n",
        "-   Final Exam (test, minimum Mark: 5/10): 40% (Individual)\n",
        "\n",
        "-   \n",
        "\n",
        "-   Class Participation (includes starting chapter quizzes and other activities during theory sessions): 10% (Individual)\n",
        "\n",
        "-   \n",
        "\n",
        "**Practice Assessments:**\n",
        "\n",
        "-   \n",
        "\n",
        "-   Quantum Simulation (Average Results Last 3 Decisions): 25% (Group)\n",
        "\n",
        "-   \n",
        "\n",
        "-   Report and Oral Presentation: 5% (Group)\n",
        "\n",
        "-   \n",
        "\n",
        "-   Test 1: 2.5% (Individual)\n",
        "\n",
        "-   \n",
        "\n",
        "-   Test 2: 5% (Individual)\n",
        "\n",
        "-   \n",
        "\n",
        "-   Test 3: 2.5% (Individual)\n",
        "\n",
        "-   \n",
        "\n",
        "-   Quantum Cases (3 - Average): 10% (Group)\n",
        "\n",
        "-   \n",
        "\n",
        "​\n"
      ],
      "metadata": {
        "id": "u3Hixi3oAFue"
      }
    },
    {
      "cell_type": "code",
      "source": [
        "# Javier comments after two hashes ##\n",
        "\n",
        "rm(list=ls())\n",
        "install.packages(\"tictoc\")\n",
        "library(tictoc)\n",
        "# Trying to simulate choice data for market baskets\n",
        "\n",
        "# Parameters and hyperparameters used come from Appendix4 of Gabel thesis Chapter1\n",
        "\n",
        "# Gabel has:\n",
        "# I=10.000 customers\n",
        "# T=200 weeks (2.000.000 purchases total)\n",
        "# C=20 categories\n",
        "# J(c)=15 products per category (300 total)\n",
        "\n",
        "# With these dimensions it takes much time; reduce dimensions. Better reduce I and T; keep C and J_c\n",
        "I=1; T=2; C=4; J_c=2\n",
        "\n",
        "# We create an empty dataset nrows = I x T x C x J_c ncol = 4\n",
        "tic()\n",
        "choice.data <- data.frame(Consumer = rep(1:I, each = T*C*J_c),\n",
        "                          Week = rep(1:T, each = C*J_c, times = I),\n",
        "                          Category = rep(rep(1:C, each = J_c), times = I*T),\n",
        "                          Product = rep(rep(1:J_c, times = C), times = I*T))\n",
        "toc()"
      ],
      "metadata": {
        "colab": {
          "base_uri": "https://localhost:8080/"
        },
        "id": "LIJZKh8lAm4j",
        "outputId": "d7eeb936-5e61-424d-dbd2-5a84f9a62a2a"
      },
      "execution_count": null,
      "outputs": [
        {
          "output_type": "stream",
          "name": "stderr",
          "text": [
            "Installing package into ‘/usr/local/lib/R/site-library’\n",
            "(as ‘lib’ is unspecified)\n",
            "\n"
          ]
        },
        {
          "output_type": "stream",
          "name": "stdout",
          "text": [
            "0.002 sec elapsed\n"
          ]
        }
      ]
    },
    {
      "cell_type": "code",
      "source": [
        "choice.data"
      ],
      "metadata": {
        "colab": {
          "base_uri": "https://localhost:8080/",
          "height": 600
        },
        "id": "qpOIvcNABEZN",
        "outputId": "43c0e830-53c0-4ff0-ec0f-5b4e80884039"
      },
      "execution_count": null,
      "outputs": [
        {
          "output_type": "display_data",
          "data": {
            "text/html": [
              "<table class=\"dataframe\">\n",
              "<caption>A data.frame: 16 × 4</caption>\n",
              "<thead>\n",
              "\t<tr><th scope=col>Consumer</th><th scope=col>Week</th><th scope=col>Category</th><th scope=col>Product</th></tr>\n",
              "\t<tr><th scope=col>&lt;int&gt;</th><th scope=col>&lt;int&gt;</th><th scope=col>&lt;int&gt;</th><th scope=col>&lt;int&gt;</th></tr>\n",
              "</thead>\n",
              "<tbody>\n",
              "\t<tr><td>1</td><td>1</td><td>1</td><td>1</td></tr>\n",
              "\t<tr><td>1</td><td>1</td><td>1</td><td>2</td></tr>\n",
              "\t<tr><td>1</td><td>1</td><td>2</td><td>1</td></tr>\n",
              "\t<tr><td>1</td><td>1</td><td>2</td><td>2</td></tr>\n",
              "\t<tr><td>1</td><td>1</td><td>3</td><td>1</td></tr>\n",
              "\t<tr><td>1</td><td>1</td><td>3</td><td>2</td></tr>\n",
              "\t<tr><td>1</td><td>1</td><td>4</td><td>1</td></tr>\n",
              "\t<tr><td>1</td><td>1</td><td>4</td><td>2</td></tr>\n",
              "\t<tr><td>1</td><td>2</td><td>1</td><td>1</td></tr>\n",
              "\t<tr><td>1</td><td>2</td><td>1</td><td>2</td></tr>\n",
              "\t<tr><td>1</td><td>2</td><td>2</td><td>1</td></tr>\n",
              "\t<tr><td>1</td><td>2</td><td>2</td><td>2</td></tr>\n",
              "\t<tr><td>1</td><td>2</td><td>3</td><td>1</td></tr>\n",
              "\t<tr><td>1</td><td>2</td><td>3</td><td>2</td></tr>\n",
              "\t<tr><td>1</td><td>2</td><td>4</td><td>1</td></tr>\n",
              "\t<tr><td>1</td><td>2</td><td>4</td><td>2</td></tr>\n",
              "</tbody>\n",
              "</table>\n"
            ],
            "text/markdown": "\nA data.frame: 16 × 4\n\n| Consumer &lt;int&gt; | Week &lt;int&gt; | Category &lt;int&gt; | Product &lt;int&gt; |\n|---|---|---|---|\n| 1 | 1 | 1 | 1 |\n| 1 | 1 | 1 | 2 |\n| 1 | 1 | 2 | 1 |\n| 1 | 1 | 2 | 2 |\n| 1 | 1 | 3 | 1 |\n| 1 | 1 | 3 | 2 |\n| 1 | 1 | 4 | 1 |\n| 1 | 1 | 4 | 2 |\n| 1 | 2 | 1 | 1 |\n| 1 | 2 | 1 | 2 |\n| 1 | 2 | 2 | 1 |\n| 1 | 2 | 2 | 2 |\n| 1 | 2 | 3 | 1 |\n| 1 | 2 | 3 | 2 |\n| 1 | 2 | 4 | 1 |\n| 1 | 2 | 4 | 2 |\n\n",
            "text/latex": "A data.frame: 16 × 4\n\\begin{tabular}{llll}\n Consumer & Week & Category & Product\\\\\n <int> & <int> & <int> & <int>\\\\\n\\hline\n\t 1 & 1 & 1 & 1\\\\\n\t 1 & 1 & 1 & 2\\\\\n\t 1 & 1 & 2 & 1\\\\\n\t 1 & 1 & 2 & 2\\\\\n\t 1 & 1 & 3 & 1\\\\\n\t 1 & 1 & 3 & 2\\\\\n\t 1 & 1 & 4 & 1\\\\\n\t 1 & 1 & 4 & 2\\\\\n\t 1 & 2 & 1 & 1\\\\\n\t 1 & 2 & 1 & 2\\\\\n\t 1 & 2 & 2 & 1\\\\\n\t 1 & 2 & 2 & 2\\\\\n\t 1 & 2 & 3 & 1\\\\\n\t 1 & 2 & 3 & 2\\\\\n\t 1 & 2 & 4 & 1\\\\\n\t 1 & 2 & 4 & 2\\\\\n\\end{tabular}\n",
            "text/plain": [
              "   Consumer Week Category Product\n",
              "1  1        1    1        1      \n",
              "2  1        1    1        2      \n",
              "3  1        1    2        1      \n",
              "4  1        1    2        2      \n",
              "5  1        1    3        1      \n",
              "6  1        1    3        2      \n",
              "7  1        1    4        1      \n",
              "8  1        1    4        2      \n",
              "9  1        2    1        1      \n",
              "10 1        2    1        2      \n",
              "11 1        2    2        1      \n",
              "12 1        2    2        2      \n",
              "13 1        2    3        1      \n",
              "14 1        2    3        2      \n",
              "15 1        2    4        1      \n",
              "16 1        2    4        2      "
            ]
          },
          "metadata": {}
        }
      ]
    }
  ]
}